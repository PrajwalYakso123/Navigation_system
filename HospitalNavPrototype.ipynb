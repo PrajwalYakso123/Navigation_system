{
  "cells": [
    {
      "cell_type": "markdown",
      "metadata": {
        "colab_type": "text",
        "id": "view-in-github"
      },
      "source": [
        "<a href=\"https://colab.research.google.com/github/Fuenfgeld/HospitalNavigator/blob/main/HospitalNavPrototype.ipynb\" target=\"_parent\"><img src=\"https://colab.research.google.com/assets/colab-badge.svg\" alt=\"Open In Colab\"/></a>"
      ]
    },
    {
      "cell_type": "code",
      "execution_count": null,
      "metadata": {
        "id": "dfKK5g2kUQns"
      },
      "outputs": [],
      "source": [
        "import folium\n",
        "from folium import plugins\n",
        "import pandas as pd\n",
        "\n",
        "import ipywidgets\n",
        "import os\n",
        "import json\n",
        "\n"
      ]
    },
    {
      "cell_type": "code",
      "execution_count": null,
      "metadata": {
        "id": "ZbV0lVd_Uxra"
      },
      "outputs": [],
      "source": [
        "!git clone https://github.com/Fuenfgeld/HospitalNavigator.git"
      ]
    },
    {
      "cell_type": "markdown",
      "metadata": {
        "id": "c78wHray6VKo"
      },
      "source": [
        "\n",
        "---\n",
        "## Intitialize Map\n",
        "---"
      ]
    },
    {
      "cell_type": "code",
      "execution_count": null,
      "metadata": {
        "id": "GrqeeJe5VBIl"
      },
      "outputs": [],
      "source": [
        "# the latitude and Longitude coordinates\n",
        "UMMlocation = (49.49216583285166, 8.484229445457458)\n",
        "map_UMM = folium.Map(location = UMMlocation, width = \"75%\", zoom_start = 17) # max zoom: 18\n",
        "map_UMM"
      ]
    },
    {
      "cell_type": "markdown",
      "metadata": {
        "id": "K0PSaHRy6Ond"
      },
      "source": [
        "---\n",
        "## Display geojson Outline\n",
        "---\n",
        "geojson drawing tool: http://geojson.io/"
      ]
    },
    {
      "cell_type": "code",
      "execution_count": null,
      "metadata": {
        "id": "fT-J95e4WPWj"
      },
      "outputs": [],
      "source": [
        "hauseOutline = 'HospitalNavigator/GeoResources/Emergency.geojson'\n",
        "display(folium.GeoJson(hauseOutline, name=\"Emergency\").add_to(map_UMM))\n",
        "display(map_UMM)"
      ]
    },
    {
      "cell_type": "markdown",
      "metadata": {
        "id": "aOzBDuxL6I8C"
      },
      "source": [
        "---\n",
        "##Display Ant Path\n",
        "---"
      ]
    },
    {
      "cell_type": "code",
      "execution_count": null,
      "metadata": {
        "id": "rfrg47U_Qj25"
      },
      "outputs": [],
      "source": [
        "testGeoJson = 'HospitalNavigator/GeoResources/path/p1toE.geojson'"
      ]
    },
    {
      "cell_type": "code",
      "execution_count": null,
      "metadata": {
        "id": "pIQuMaKydxSC"
      },
      "outputs": [],
      "source": [
        "def switchPosition(coordinate):\n",
        "  temp = coordinate[0]\n",
        "  coordinate[0] = coordinate[1]\n",
        "  coordinate[1] = temp\n",
        "  return coordinate"
      ]
    },
    {
      "cell_type": "code",
      "execution_count": null,
      "metadata": {
        "id": "nfn2vUH1Sq5z"
      },
      "outputs": [],
      "source": [
        "with open(testGeoJson) as f:\n",
        "  testWay = json.load(f)\n",
        "\n",
        "for feature in testWay['features']:\n",
        "    path = feature['geometry']['coordinates']\n",
        "finalPath = list(map(switchPosition,path))\n",
        "finalPath"
      ]
    },
    {
      "cell_type": "code",
      "execution_count": null,
      "metadata": {
        "id": "TtAbktGTZ5bx"
      },
      "outputs": [],
      "source": [
        "path = 'HospitalNavigator/GeoResources/path/p1toE.geojson'\n",
        "folium.plugins.AntPath([[87.26776471375342,26.81327263862022],\n",
        "[87.26823423771481,26.812967880844383],\n",
        "[87.26853302568969,26.813327059565438],\n",
        "[87.26888059537669,26.81310665457653],\n",
        "[87.26874949453054,26.812943391345144],\n",
        "[87.26877998309914,26.812921622896383]]).add_to(map_UMM)\n",
        "map_UMM"
      ]
    },
    {
      "cell_type": "markdown",
      "metadata": {
        "id": "ifjJu3V16EAs"
      },
      "source": [
        "---\n",
        "## Select Widget\n",
        "---"
      ]
    },
    {
      "cell_type": "code",
      "execution_count": null,
      "metadata": {
        "id": "obbYz7AwRL6K"
      },
      "outputs": [],
      "source": [
        "select_widget=ipywidgets.Select(\n",
        "    options=['Option A', 'Option B'],\n",
        "    value='Option A',\n",
        "    description='Select',\n",
        "    disabled=False)\n",
        "\n",
        "def selectOption(opt):\n",
        "    if opt == 'Option A':\n",
        "        print('A')\n",
        "    if opt == 'Option B':\n",
        "        print('B')\n",
        "\n",
        "ipywidgets.interact(selectOption, opt=select_widget)"
      ]
    },
    {
      "cell_type": "markdown",
      "metadata": {
        "id": "0Q-hv_Wj6nB7"
      },
      "source": [
        "\n",
        "\n",
        "---\n",
        "## Build Navigator Prototype\n",
        "---\n",
        "\n",
        "\n"
      ]
    },
    {
      "cell_type": "code",
      "execution_count": null,
      "metadata": {
        "id": "g_UAR_hEhh5u"
      },
      "outputs": [],
      "source": [
        "class navigator:\n",
        "    def __init__(self):\n",
        "        self.geoResources = {}\n",
        "        self.hospitalLocation =(87.26887308978485, 26.812593090218613)\n",
        "        self.position = 'w'\n",
        "        self.destination = 'HospitalBillcounter'\n",
        "\n",
        "        for root, dirs, files in os.walk('HospitalNavigator/GeoResources'):  \n",
        "            for file in files:\n",
        "                self.geoResources[file.split('.')[0]] = root+'/'+file\n",
        "\n",
        "    def changeDestination(self,newDestination):\n",
        "        self.destination = newDestination\n",
        "        self.redrawMap()\n",
        "\n",
        "    def changeStartPoint(self, newStartPoint):\n",
        "        \n",
        "        #self.position = newStartPoint #does not work yet\n",
        "        print(f'Selected Start: {newStartPoint}; Selected Target: {self.destination}')\n",
        "        #self.redrawMap()\n",
        "        \n",
        "\n",
        "    def drawPathWay(self,hospitalMap):\n",
        "      \n",
        "      def switchPosition(coordinate):\n",
        "        temp = coordinate[0]\n",
        "        coordinate[0] = coordinate[1]\n",
        "        coordinate[1] = temp\n",
        "        return coordinate\n",
        "\n",
        "      searchString = self.position + self.destination.split('Haus')[1]\n",
        "      with open(self.geoResources[searchString]) as f:\n",
        "           testWay = json.load(f)\n",
        "\n",
        "      for feature in testWay['features']:\n",
        "        path = feature['geometry']['coordinates']\n",
        "\n",
        "      finalPath = list(map(switchPosition,path))\n",
        "      folium.plugins.AntPath(finalPath).add_to(hospitalMap)\n",
        "\n",
        "    def drawBuilding(self,hospitalMap):\n",
        "      hauseOutline = self.geoResources[self.destination]\n",
        "      folium.GeoJson(hauseOutline, name=\"geojson\").add_to(hospitalMap)\n",
        "\n",
        "    def redrawMap(self):\n",
        "        #print(f'position {self.position}, destination {self.destination}')\n",
        "        hospitalMap = folium.Map(location = self.hospitalLocation, width = \"75%\", zoom_start = 17)\n",
        "        self.drawPathWay(hospitalMap)\n",
        "        self.drawBuilding(hospitalMap)\n",
        "        display(hospitalMap)\n",
        "\n",
        "\n"
      ]
    },
    {
      "cell_type": "code",
      "execution_count": null,
      "metadata": {
        "id": "NiF2NcmlVioA"
      },
      "outputs": [],
      "source": [
        "myNavigator = navigator()"
      ]
    },
    {
      "cell_type": "code",
      "execution_count": null,
      "metadata": {
        "id": "1KVHVrwnjD1H"
      },
      "outputs": [],
      "source": [
        "def displayWay(whereTo):\n",
        "     myNavigator.changeDestination(whereTo)"
      ]
    },
    {
      "cell_type": "code",
      "execution_count": null,
      "metadata": {
        "id": "pjRHgbd7jEPb"
      },
      "outputs": [],
      "source": [
        "def changePosition(whereFrom):\n",
        "    myNavigator.changeStartPoint(whereFrom)"
      ]
    },
    {
      "cell_type": "code",
      "execution_count": null,
      "metadata": {
        "id": "m1kE2QZlacKq"
      },
      "outputs": [],
      "source": [
        "# Destination Selector\n",
        "selectHouse_widget=ipywidgets.Select(\n",
        "    \n",
        "options=['Emergency',\n",
        "    'OPD',\n",
        "    'BillCounter',\n",
        "    'Hospital Pharmacy',\n",
        "    'Hospital Canteen'],\n",
        "    value='Emergency',\n",
        "    description='Target',\n",
        "    disabled=False)\n",
        "\n",
        "# widget function\n",
        "def selectHouse(way):\n",
        "    if way == 'p1toE' :\n",
        "        displayWay('Emergency' ) \n",
        "    if way == 'p1toOPD':\n",
        "        displayWay('OPD')\n",
        "    if way == 'p1toHC':\n",
        "        displayWay('HospitalCanteen')\n",
        "    if way == 'p1toHP':\n",
        "        displayWay('Hospital Pharmacy')\n",
        "    if way == 'p1toBC':\n",
        "        displayWay('BillCounter')\n",
        "\n",
        "# Position Selector\n",
        "selectPosition_widget=ipywidgets.Select(\n",
        "    options=['Aufnahme', 'Eingang West', 'Eingang Ost', 'Eingang Fahrzeuge'],\n",
        "    value='Eingang West',\n",
        "    description='Start',\n",
        "    disabled=False)\n",
        "\n",
        "def selectPosition(position):\n",
        "    if position == 'Aufnahme':\n",
        "        changePosition('a')\n",
        "    if position == 'Eingang West':\n",
        "        changePosition('w')\n",
        "    if position == 'Eingang Ost':\n",
        "        changePosition('o')\n",
        "    if position == 'Eingang Fahrzeuge':\n",
        "        changePosition('f')\n",
        "        \n",
        "#Initialization   \n",
        "ipywidgets.interact(selectPosition, position=selectPosition_widget)\n",
        "ipywidgets.interact(selectHouse, way=selectHouse_widget)"
      ]
    },
    {
      "cell_type": "code",
      "execution_count": null,
      "metadata": {
        "id": "gu_bjlTMPOnb"
      },
      "outputs": [],
      "source": []
    }
  ],
  "metadata": {
    "colab": {
      "authorship_tag": "ABX9TyOUf+xaSIJK+5l+sRqw6/rf",
      "collapsed_sections": [],
      "include_colab_link": true,
      "name": "HospitalNavPrototype.ipynb",
      "provenance": []
    },
    "kernelspec": {
      "display_name": "Python 3",
      "name": "python3"
    }
  },
  "nbformat": 4,
  "nbformat_minor": 0
}
